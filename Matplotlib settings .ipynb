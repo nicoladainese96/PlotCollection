{
 "cells": [
  {
   "cell_type": "markdown",
   "id": "8634a0e3",
   "metadata": {},
   "source": [
    "## Color Palette"
   ]
  },
  {
   "cell_type": "markdown",
   "id": "4f29c219",
   "metadata": {},
   "source": [
    "Use 'C0', 'C1', 'C2' and so on to access the default colors of the palette."
   ]
  },
  {
   "cell_type": "markdown",
   "id": "49f2747a",
   "metadata": {},
   "source": [
    "## Global params"
   ]
  },
  {
   "cell_type": "markdown",
   "id": "46beb21c",
   "metadata": {},
   "source": [
    "See https://matplotlib.org/stable/tutorials/introductory/customizing.html"
   ]
  },
  {
   "cell_type": "code",
   "execution_count": null,
   "id": "fb569790",
   "metadata": {},
   "outputs": [],
   "source": [
    "# My favourite settings\n",
    "import matplotlib as mpl\n",
    "mpl.rcParams['axes.labelsize'] = 16\n",
    "mpl.rcParams['axes.titlesize'] = 16\n",
    "mpl.rcParams['legend.fontsize'] = 13\n",
    "mpl.rcParams['figure.figsize'] = (8,6)"
   ]
  }
 ],
 "metadata": {
  "kernelspec": {
   "display_name": "pytorch_x86",
   "language": "python",
   "name": "pytorch_x86"
  },
  "language_info": {
   "codemirror_mode": {
    "name": "ipython",
    "version": 3
   },
   "file_extension": ".py",
   "mimetype": "text/x-python",
   "name": "python",
   "nbconvert_exporter": "python",
   "pygments_lexer": "ipython3",
   "version": "3.9.6"
  }
 },
 "nbformat": 4,
 "nbformat_minor": 5
}
